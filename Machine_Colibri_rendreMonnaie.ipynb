{
 "cells": [
  {
   "cell_type": "markdown",
   "metadata": {},
   "source": [
    "# MACHINE A CAFE COLIBRI\n",
    "## Comment rendre la monnaie avec un nombre minimale de pièces ?\n",
    "\n",
    "### Principe :\n",
    "\n",
    "<p>Soit Pa = (p0,p1,p2,p3,p4,p5,p6,p7) les pièces en centimes acceptées par la machine Colibri sont des entiers positifs telle que :\n",
    "    p0>p1>p2>...>pn et SaR la somme à rendre est un entier positif </p>\n",
    "    \n",
    "<p>Il faut trouver la liste des pièces à rendre Lr = (p1,p2, ..., pn), les pi appartiennent à la liste des pièces acceptées Pa, telle que :<br>\n",
    "    p1 + p2 + ... + pn = SaR <br>\n",
    "    avec n minimum</p>"
   ]
  },
  {
   "cell_type": "markdown",
   "metadata": {},
   "source": [
    "### Exemple : Rendre 1,65€ pour l'achat d'un café grain lorsque qu'une pièce de 2€ est insérée\n",
    "\n",
    "<p> Si la machine ne rend que des pièces de 0,01€, il est évident que \"n\" ne sera pas minimum<br>\n",
    "    Je parcours la liste des pièces acceptées : 200, 100, 50, 20, 10, 5, 2, 1<br>\n",
    "    Si je trouve un nombre plus petit que la somme à rendre je la place dans une liste</p>\n",
    "    <p> Résultat:<br>\n",
    "    100 (reste 65)<br>\n",
    "    50 (reste 15)<br>\n",
    "    10 (reste 5)<br>\n",
    "    5 (reste 0)<br>\n",
    "    le reste est égale à 0 c'est terminé !"
   ]
  },
  {
   "cell_type": "raw",
   "metadata": {},
   "source": [
    "Algortithme rendreMonnaie(S:entier,Pa : tableau d'entier)\n",
    "\n",
    "{Pa est trié par ordre décroissant}\n",
    "{sinon trier par ordre décroisssant la liste soit avec une fonction de tri vue précédement soit par la focntion sorted() de python avec un paramètre nommé reverse avec une valeur booléenne}\n",
    "\n",
    "    Lr est initialisé à vide\n",
    "    tantque SaR est supérieur à 0 faire : \n",
    "        trouver le premier élément i de Pa qui ne depasse pas Sar\n",
    "        ajouter cet élément à Lr\n",
    "        SaR prend la valeur S-Pa[i]\n",
    "    Fin tantque\n",
    "    Renvoyer Lr\n",
    "    \n",
    "    \n"
   ]
  },
  {
   "cell_type": "code",
   "execution_count": 7,
   "metadata": {},
   "outputs": [
    {
     "data": {
      "text/plain": [
       "([100, 20, 10, 5, 1], 5)"
      ]
     },
     "execution_count": 7,
     "metadata": {},
     "output_type": "execute_result"
    }
   ],
   "source": [
    "Pa = [200,100,50,20,10,5,2,1] # Tableau des pièces acceptées par la machine Colibri\n",
    "SaR=135                       # Somme à rendre\n",
    "\n",
    "def rendreMonnaie(somme_a_rendre, pieces_acceptees):\n",
    "\n",
    "    Lr = []             # on initilise la liste des pièces à rendre      \n",
    "\n",
    "    i = 0               # initilaise la variable d'itération\n",
    "\n",
    "    while somme_a_rendre > 0:\n",
    "        valeur = pieces_acceptees[i] # On prend la valeur d'une pièce\n",
    "        if somme_a_rendre < valeur:  # Si la somme est inférieur a la valuer de la pièce\n",
    "            i += 1                   # alors on compare avec la pièce suivante dans la liste Pa\n",
    "        else:\n",
    "            Lr.append(valeur)          \n",
    "            somme_a_rendre -= valeur\n",
    "    NbPieces = len(Lr)\n",
    "    return Lr,NbPieces          # On renvoie la Liste des pièces à rendre ainsi que le nompre de pièces utilisées\n",
    "\n",
    "rendreMonnaie(SaR,Pa)"
   ]
  },
  {
   "cell_type": "code",
   "execution_count": null,
   "metadata": {},
   "outputs": [],
   "source": []
  }
 ],
 "metadata": {
  "kernelspec": {
   "display_name": "Python 3",
   "language": "python",
   "name": "python3"
  },
  "language_info": {
   "codemirror_mode": {
    "name": "ipython",
    "version": 3
   },
   "file_extension": ".py",
   "mimetype": "text/x-python",
   "name": "python",
   "nbconvert_exporter": "python",
   "pygments_lexer": "ipython3",
   "version": "3.7.4"
  }
 },
 "nbformat": 4,
 "nbformat_minor": 4
}
